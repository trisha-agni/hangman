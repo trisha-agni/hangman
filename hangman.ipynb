{
  "nbformat": 4,
  "nbformat_minor": 0,
  "metadata": {
    "colab": {
      "provenance": [],
      "authorship_tag": "ABX9TyNNCcafawZZa5tuWs+bdHvy",
      "include_colab_link": true
    },
    "kernelspec": {
      "name": "python3",
      "display_name": "Python 3"
    },
    "language_info": {
      "name": "python"
    }
  },
  "cells": [
    {
      "cell_type": "markdown",
      "metadata": {
        "id": "view-in-github",
        "colab_type": "text"
      },
      "source": [
        "<a href=\"https://colab.research.google.com/github/trisha-agni/hangman/blob/main/hangman.ipynb\" target=\"_parent\"><img src=\"https://colab.research.google.com/assets/colab-badge.svg\" alt=\"Open In Colab\"/></a>"
      ]
    },
    {
      "cell_type": "code",
      "execution_count": 1,
      "metadata": {
        "colab": {
          "base_uri": "https://localhost:8080/"
        },
        "id": "cxvmLFBmvhHU",
        "outputId": "43c50a21-f8df-4f4f-9313-2852c179aced"
      },
      "outputs": [
        {
          "output_type": "stream",
          "name": "stdout",
          "text": [
            "Welcome to Hangman!\n",
            "\n",
            "Word: _ _ _ _ _ _ _\n",
            "Attempts left: 6\n",
            "Guessed letters: \n",
            "Guess a letter: p\n",
            "Wrong guess.\n",
            "\n",
            "Word: _ _ _ _ _ _ _\n",
            "Attempts left: 5\n",
            "Guessed letters: p\n",
            "Guess a letter: h\n",
            "Good guess!\n",
            "\n",
            "Word: h _ _ _ _ _ _\n",
            "Attempts left: 5\n",
            "Guessed letters: p, h\n",
            "Guess a letter: a\n",
            "Good guess!\n",
            "\n",
            "Word: h a _ _ _ a _\n",
            "Attempts left: 5\n",
            "Guessed letters: p, h, a\n",
            "Guess a letter: n\n",
            "Good guess!\n",
            "\n",
            "Word: h a n _ _ a n\n",
            "Attempts left: 5\n",
            "Guessed letters: p, h, a, n\n",
            "Guess a letter: f\n",
            "Wrong guess.\n",
            "\n",
            "Word: h a n _ _ a n\n",
            "Attempts left: 4\n",
            "Guessed letters: p, h, a, n, f\n",
            "Guess a letter: d\n",
            "Wrong guess.\n",
            "\n",
            "Word: h a n _ _ a n\n",
            "Attempts left: 3\n",
            "Guessed letters: p, h, a, n, f, d\n",
            "Guess a letter: w\n",
            "Wrong guess.\n",
            "\n",
            "Word: h a n _ _ a n\n",
            "Attempts left: 2\n",
            "Guessed letters: p, h, a, n, f, d, w\n",
            "Guess a letter: r\n",
            "Wrong guess.\n",
            "\n",
            "Word: h a n _ _ a n\n",
            "Attempts left: 1\n",
            "Guessed letters: p, h, a, n, f, d, w, r\n",
            "Guess a letter: m\n",
            "Good guess!\n",
            "\n",
            "Word: h a n _ m a n\n",
            "Attempts left: 1\n",
            "Guessed letters: p, h, a, n, f, d, w, r, m\n",
            "Guess a letter: f\n",
            "You've already guessed that letter.\n",
            "\n",
            "Word: h a n _ m a n\n",
            "Attempts left: 1\n",
            "Guessed letters: p, h, a, n, f, d, w, r, m\n",
            "Guess a letter: q\n",
            "Wrong guess.\n",
            "\n",
            "Game over! The word was: hangman\n"
          ]
        }
      ],
      "source": [
        "import random\n",
        "\n",
        "def hangman():\n",
        "    words = [\"python\", \"hangman\", \"challenge\", \"programming\", \"education\"]\n",
        "    word = random.choice(words)\n",
        "    guessed_word = [\"_\" for _ in word]\n",
        "    attempts = 6\n",
        "    guessed_letters = []\n",
        "\n",
        "    print(\"Welcome to Hangman!\")\n",
        "\n",
        "    while attempts > 0 and \"_\" in guessed_word:\n",
        "        print(\"\\nWord:\", \" \".join(guessed_word))\n",
        "        print(f\"Attempts left: {attempts}\")\n",
        "        print(\"Guessed letters:\", \", \".join(guessed_letters))\n",
        "\n",
        "        guess = input(\"Guess a letter: \").lower()\n",
        "\n",
        "        if len(guess) != 1 or not guess.isalpha():\n",
        "            print(\"Please enter a single valid letter.\")\n",
        "            continue\n",
        "\n",
        "        if guess in guessed_letters:\n",
        "            print(\"You've already guessed that letter.\")\n",
        "            continue\n",
        "\n",
        "        guessed_letters.append(guess)\n",
        "\n",
        "        if guess in word:\n",
        "            print(\"Good guess!\")\n",
        "            for i, letter in enumerate(word):\n",
        "                if letter == guess:\n",
        "                    guessed_word[i] = guess\n",
        "        else:\n",
        "            print(\"Wrong guess.\")\n",
        "            attempts -= 1\n",
        "\n",
        "    if \"_\" not in guessed_word:\n",
        "        print(\"\\nCongratulations! You've guessed the word:\", word)\n",
        "    else:\n",
        "        print(\"\\nGame over! The word was:\", word)\n",
        "\n",
        "hangman()"
      ]
    }
  ]
}